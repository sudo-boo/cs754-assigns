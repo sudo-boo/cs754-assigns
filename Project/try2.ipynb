{
 "cells": [
  {
   "cell_type": "code",
   "execution_count": 1,
   "id": "0c222edf",
   "metadata": {},
   "outputs": [],
   "source": [
    "import numpy as np\n",
    "from sklearn.ensemble import RandomForestClassifier\n",
    "from sklearn.metrics import hamming_loss\n",
    "from scipy.sparse import lil_matrix\n",
    "from tqdm import tqdm\n",
    "import os\n",
    "\n",
    "# -----------------------------\n",
    "# Parameters\n",
    "# -----------------------------\n",
    "# k = 10\n",
    "# m = 240\n",
    "# e = 20\n",
    "# n = 2000\n",
    "# nt = 501\n",
    "# p = 6000\n",
    "# d = 2456\n",
    "\n",
    "d = 983\n",
    "e = 248 # 3k*logd\n",
    "k = 12\n",
    "m = 240\n",
    "n = 1580\n",
    "nt = 393\n",
    "p = 500\n",
    "GT_type = \"sparse_rand\"\n",
    "seed = 42\n"
   ]
  },
  {
   "cell_type": "code",
   "execution_count": 2,
   "id": "96e6283c",
   "metadata": {},
   "outputs": [],
   "source": [
    "np.random.seed(seed)\n",
    "\n",
    "\n",
    "# -----------------------------\n",
    "# Dataset Loader\n",
    "# -----------------------------\n",
    "def load_dataset(path, n_samples, p, d):\n",
    "    X = lil_matrix((n_samples, p), dtype=np.float32)\n",
    "    Y = np.zeros((n_samples, d), dtype=np.int32)\n",
    "\n",
    "    with open(path, 'r') as f:\n",
    "        # header = f.readline().strip()\n",
    "        # print(\"Header:\", header)\n",
    "        for i, line in tqdm(enumerate(f), total=n_samples):\n",
    "            if i >= n_samples:\n",
    "                break\n",
    "            parts = line.strip().split()\n",
    "            labels = parts[0].split(',')\n",
    "            for l in labels:\n",
    "                try:\n",
    "                    idx = int(l)\n",
    "                    if 0 <= idx < d:\n",
    "                        Y[i, idx] = 1\n",
    "                except ValueError:\n",
    "                    pass  # skip malformed or non-integer label\n",
    "\n",
    "            for item in parts[1:]:\n",
    "                if ':' in item:\n",
    "                    idx_val = item.split(':')\n",
    "                    if len(idx_val) != 2:\n",
    "                        continue\n",
    "                    try:\n",
    "                        idx, val = int(idx_val[0]), float(idx_val[1])\n",
    "                        if 0 <= idx < p:\n",
    "                            X[i, idx] = val\n",
    "                    except ValueError:\n",
    "                        continue\n",
    "\n",
    "            if i == 0:\n",
    "                print(\"Parsed labels:\", labels)\n",
    "                print(\"First 10 non-zero features:\", [(idx, X[i, idx]) for idx in X[i].nonzero()[1][:10]])\n",
    "\n",
    "    return X.tocsr(), Y\n"
   ]
  },
  {
   "cell_type": "code",
   "execution_count": 3,
   "id": "17430ae1",
   "metadata": {},
   "outputs": [],
   "source": [
    "\n",
    "# -----------------------------\n",
    "# GT Matrix Builder\n",
    "# -----------------------------\n",
    "def build_gt_matrix(d, m, method=\"sparse_rand\"):\n",
    "    A = np.zeros((m, d), dtype=int)\n",
    "    s = int(np.ceil(np.log2(d)))  # ensure better disjunct properties\n",
    "    for j in range(d):\n",
    "        ones = np.random.choice(m, size=s, replace=False)\n",
    "        A[ones, j] = 1\n",
    "    return A\n",
    "\n",
    "\n",
    "# -----------------------------\n",
    "# MLGT Training (Algorithm 1)\n",
    "# -----------------------------\n",
    "from sklearn.linear_model import LogisticRegression\n",
    "\n",
    "def train_classifiers(X, Y, A):\n",
    "    Z = np.zeros((X.shape[0], A.shape[0]), dtype=int)\n",
    "    for i in range(X.shape[0]):\n",
    "        Z[i] = np.any(A[:, Y[i] == 1], axis=1).astype(int)\n",
    "\n",
    "    classifiers = []\n",
    "    for j in tqdm(range(A.shape[0])):\n",
    "        clf = RandomForestClassifier(n_estimators=10, max_depth=5, random_state=42)\n",
    "        clf.fit(X.toarray(), Z[:, j])\n",
    "        classifiers.append(clf)\n",
    "\n",
    "    # print training error\n",
    "    Y_pred = np.zeros((X.shape[0], A.shape[0]), dtype=int)\n",
    "    for j in range(A.shape[0]):\n",
    "        Y_pred[:, j] = classifiers[j].predict(X)\n",
    "    Y_pred = (Y_pred @ A > 0).astype(int)\n",
    "    print(\"Training Hamming Loss:\", hamming_loss(Y, Y_pred))\n",
    "    # print training precision\n",
    "    for k in range(1, 11):\n",
    "        print(f\"Training Precision@{k}:\", precision_at_k(Y, Y_pred, k))\n",
    "    # print training precision at k avg\n",
    "    print(\"Training Precision@k avg:\", np.mean([precision_at_k(Y, Y_pred, k) for k in range(1, 11)]))\n",
    "    return classifiers\n",
    "\n",
    "\n",
    "# -----------------------------\n",
    "# MLGT Prediction with Probabilities\n",
    "# -----------------------------\n",
    "def predict_all_scores(X, classifiers, A):\n",
    "    m = len(classifiers)\n",
    "    print(\"converting to dense in test\")\n",
    "    X_dense = X.toarray()  # Convert once before batch prediction\n",
    "    X = X_dense\n",
    "    print(\"converted to dense in test\")\n",
    "\n",
    "    Z_hat = np.zeros((X.shape[0], m))\n",
    "    for j, clf in enumerate(classifiers):\n",
    "        Z_hat[:, j] = clf.predict_proba(X)[:, 1]  # probability of label 1\n",
    "\n",
    "    Y_scores = np.zeros((X.shape[0], A.shape[1]))\n",
    "    for l in range(A.shape[1]):\n",
    "        rows = np.where(A[:, l] == 1)[0]\n",
    "        Y_scores[:, l] = np.sum(Z_hat[:, rows], axis=1)\n",
    "    return Y_scores\n",
    "\n",
    "# -----------------------------\n",
    "# Thresholding for binary prediction\n",
    "# -----------------------------\n",
    "def threshold_predictions(Y_scores, A, e):\n",
    "    Y_pred = np.zeros_like(Y_scores, dtype=int)\n",
    "    for l in range(A.shape[1]):\n",
    "        rows = np.where(A[:, l] == 1)[0]\n",
    "        for i in range(Y_scores.shape[0]):\n",
    "            support_misses = np.sum(Y_scores[i, rows] < 0.5)  # count probable 0s\n",
    "            if support_misses < e / 2:\n",
    "                Y_pred[i, l] = 1\n",
    "    return Y_pred\n",
    "\n",
    "# -----------------------------\n",
    "# Evaluation\n",
    "# -----------------------------\n",
    "def precision_at_k(y_true, y_scores, k):\n",
    "    precisions = []\n",
    "    for yt, yp in zip(y_true, y_scores):\n",
    "        topk = np.argsort(-yp)[:k]\n",
    "        correct = yt[topk].sum()\n",
    "        precisions.append(correct / k)\n",
    "    return np.mean(precisions)\n"
   ]
  },
  {
   "cell_type": "code",
   "execution_count": 4,
   "id": "bb9b4d6a",
   "metadata": {},
   "outputs": [
    {
     "name": "stdout",
     "output_type": "stream",
     "text": [
      "Loading training data...\n"
     ]
    },
    {
     "name": "stderr",
     "output_type": "stream",
     "text": [
      "100%|██████████| 1580/1580 [00:00<00:00, 25422.75it/s]\n"
     ]
    },
    {
     "name": "stdout",
     "output_type": "stream",
     "text": [
      "Parsed labels: ['77', '91', '315', '544', '575', '621', '718', '818', '819', '834', '908']\n",
      "First 10 non-zero features: [(np.int32(60), np.float32(1.0)), (np.int32(248), np.float32(1.0)), (np.int32(279), np.float32(1.0)), (np.int32(316), np.float32(1.0)), (np.int32(490), np.float32(1.0))]\n",
      "Loading test data...\n"
     ]
    },
    {
     "name": "stderr",
     "output_type": "stream",
     "text": [
      "100%|██████████| 393/393 [00:00<00:00, 16521.95it/s]\n"
     ]
    },
    {
     "name": "stdout",
     "output_type": "stream",
     "text": [
      "Parsed labels: ['53', '55', '78', '247', '375', '464', '497', '500', '531', '636', '700', '773', '809', '941', '955', '974']\n",
      "First 10 non-zero features: [(np.int32(12), np.float32(1.0)), (np.int32(16), np.float32(1.0)), (np.int32(197), np.float32(1.0)), (np.int32(199), np.float32(1.0)), (np.int32(206), np.float32(1.0)), (np.int32(293), np.float32(1.0)), (np.int32(461), np.float32(1.0))]\n",
      "Building GT matrix...\n",
      "Training classifiers...\n"
     ]
    },
    {
     "name": "stderr",
     "output_type": "stream",
     "text": [
      "100%|██████████| 240/240 [00:02<00:00, 99.74it/s] \n"
     ]
    },
    {
     "name": "stdout",
     "output_type": "stream",
     "text": [
      "Training Hamming Loss: 0.9786670873198811\n",
      "Training Precision@1: 0.017721518987341773\n",
      "Training Precision@2: 0.03069620253164557\n",
      "Training Precision@3: 0.022995780590717295\n",
      "Training Precision@4: 0.022943037974683545\n",
      "Training Precision@5: 0.019113924050632912\n",
      "Training Precision@6: 0.016666666666666666\n",
      "Training Precision@7: 0.015641952983725133\n",
      "Training Precision@8: 0.015348101265822785\n",
      "Training Precision@9: 0.022573839662447255\n",
      "Training Precision@10: 0.02088607594936709\n",
      "Training Precision@k avg: 0.020458710066305\n",
      "Predicting test scores...\n",
      "converting to dense in test\n",
      "converted to dense in test\n",
      "Decoding predictions with thresholding...\n"
     ]
    }
   ],
   "source": [
    "\n",
    "# -----------------------------\n",
    "# Main\n",
    "# -----------------------------\n",
    "dir = 'Delicious/'\n",
    "file_train = os.path.join(dir, 'train.txt')\n",
    "file_test  = os.path.join(dir, 'test.txt')\n",
    "\n",
    "print(\"Loading training data...\")\n",
    "X_train, Y_train = load_dataset(file_train, n, p, d)\n",
    "print(\"Loading test data...\")\n",
    "X_test, Y_test = load_dataset(file_test, nt, p, d)\n",
    "\n",
    "print(\"Building GT matrix...\")\n",
    "A = build_gt_matrix(d, m, method=GT_type)\n",
    "\n",
    "print(\"Training classifiers...\")\n",
    "classifiers = train_classifiers(X_train, Y_train, A)\n",
    "\n",
    "print(\"Predicting test scores...\")\n",
    "Y_scores_gt = predict_all_scores(X_test, classifiers, A)\n",
    "\n",
    "print(\"Decoding predictions with thresholding...\")\n",
    "Y_pred_gt = threshold_predictions(Y_scores_gt, A, e)\n",
    "\n"
   ]
  },
  {
   "cell_type": "code",
   "execution_count": 5,
   "id": "18dc2464",
   "metadata": {},
   "outputs": [
    {
     "name": "stdout",
     "output_type": "stream",
     "text": [
      "Evaluation\n",
      "Hamming Loss: 0.9804\n",
      "Precision@2 : 0.5344\n"
     ]
    }
   ],
   "source": [
    "print(\"Evaluation\")\n",
    "k_eval = 2\n",
    "hl = hamming_loss(Y_test, Y_pred_gt)\n",
    "p2 = precision_at_k(Y_test, Y_scores_gt, k_eval)\n",
    "print(f\"Hamming Loss: {hl:.4f}\")\n",
    "print(f\"Precision@{k_eval} : {p2:.4f}\")"
   ]
  },
  {
   "cell_type": "code",
   "execution_count": 6,
   "id": "79dc1138",
   "metadata": {},
   "outputs": [
    {
     "data": {
      "image/png": "[encoded data removed]",
      "text/plain": [
       "<Figure size 1000x600 with 1 Axes>"
      ]
     },
     "metadata": {},
     "output_type": "display_data"
    },
    {
     "name": "stdout",
     "output_type": "stream",
     "text": [
      "Precision@k avg: 0.3986796735683504\n"
     ]
    }
   ],
   "source": [
    "# plot all values from k_eval 1 to 10\n",
    "\n",
    "import matplotlib.pyplot as plt\n",
    "\n",
    "plt.figure(figsize=(10, 6))\n",
    "plt.plot(range(1, 11), [precision_at_k(Y_test, Y_scores_gt, k) for k in range(1, 11)], marker='o')\n",
    "plt.title('Precision@k vs k')\n",
    "plt.xlabel('k')\n",
    "plt.ylabel('Precision@k')\n",
    "plt.xticks(range(1, 11))\n",
    "plt.grid()\n",
    "plt.savefig('precision_at_k.png')\n",
    "plt.show()\n",
    "\n",
    "# print the precision at k for all k from 1 to k_eval avg\n",
    "print(\"Precision@k avg:\", np.mean([precision_at_k(Y_test, Y_scores_gt, k) for k in range(1, k + 1)]))"
   ]
  },
  {
   "cell_type": "markdown",
   "id": "0ea2b28b",
   "metadata": {},
   "source": [
    "# MLCS"
   ]
  },
  {
   "cell_type": "code",
   "execution_count": 7,
   "id": "26bec8ab",
   "metadata": {},
   "outputs": [],
   "source": [
    "from sklearn.linear_model import Ridge, OrthogonalMatchingPursuit\n",
    "from sklearn.metrics import hamming_loss\n",
    "from scipy.linalg import hadamard\n",
    "from tqdm import tqdm\n",
    "import numpy as np\n",
    "\n",
    "# -----------------------------\n",
    "# CS Matrix Builder\n",
    "# -----------------------------\n",
    "def build_cs_matrix(d, m,mode):\n",
    "    # Random Gaussian matrix scaled to unit variance\n",
    "    if mode == \"Gaussian\":\n",
    "        A = np.random.randn(m, d)\n",
    "        A /= np.linalg.norm(A, axis=0)\n",
    "    elif mode == \"Hadamard\":\n",
    "        \n",
    "         # Find smallest power of 2 ≥ d\n",
    "        d_h = 2 ** int(np.ceil(np.log2(d)))\n",
    "        H = hadamard(d_h)\n",
    "\n",
    "        # Subsample m rows uniformly at random\n",
    "        selected_rows = np.random.choice(d_h, size=m, replace=False)\n",
    "        A = H[selected_rows, :d]  # Take first d columns if d < d_h\n",
    "\n",
    "        # Normalize rows to unit norm\n",
    "        A = A / np.sqrt(d)\n",
    "    return A\n",
    "\n",
    "# -----------------------------\n",
    "# MLCS Training\n",
    "# -----------------------------\n",
    "def train_regressors(X, Y, A_cs, alpha=1.0):\n",
    "    Z = Y @ A_cs.T  # Compressed labels\n",
    "    regressors = []\n",
    "\n",
    "    for j in tqdm(range(A_cs.shape[0])):\n",
    "        reg = Ridge(alpha=alpha)\n",
    "        reg.fit(X.toarray(), Z[:, j])\n",
    "        regressors.append(reg)\n",
    "    \n",
    "    return regressors\n",
    "\n",
    "# -----------------------------\n",
    "# MLCS Prediction + Sparse Recovery\n",
    "# -----------------------------\n",
    "def predict_all_scores_cs(X, regressors, A_cs, k):\n",
    "    X = X.toarray()\n",
    "    m = len(regressors)\n",
    "\n",
    "    Z_hat = np.zeros((X.shape[0], m))\n",
    "    for j, reg in enumerate(regressors):\n",
    "        Z_hat[:, j] = reg.predict(X)\n",
    "\n",
    "    Y_scores = np.zeros((X.shape[0], A_cs.shape[1]))\n",
    "    omp = OrthogonalMatchingPursuit(n_nonzero_coefs=k)\n",
    "    for i in range(X.shape[0]):\n",
    "        omp.fit(A_cs, Z_hat[i])\n",
    "        y_hat = omp.coef_\n",
    "        Y_scores[i] = y_hat\n",
    "\n",
    "    return Y_scores\n",
    "\n",
    "# -----------------------------\n",
    "# Thresholding for MLCS\n",
    "# -----------------------------\n",
    "def threshold_predictions_cs(Y_scores, threshold=0.5):\n",
    "    return (Y_scores >= threshold).astype(int)\n",
    "\n",
    "# -----------------------------\n",
    "# Evaluation Reuse\n",
    "# -----------------------------\n",
    "def precision_at_k(y_true, y_scores, k):\n",
    "    precisions = []\n",
    "    for yt, yp in zip(y_true, y_scores):\n",
    "        topk = np.argsort(-yp)[:k]\n",
    "        correct = yt[topk].sum()\n",
    "        precisions.append(correct / k)\n",
    "    return np.mean(precisions)\n"
   ]
  },
  {
   "cell_type": "code",
   "execution_count": 8,
   "id": "cfbd05d0",
   "metadata": {},
   "outputs": [
    {
     "name": "stdout",
     "output_type": "stream",
     "text": [
      "Loading training data...\n"
     ]
    },
    {
     "name": "stderr",
     "output_type": "stream",
     "text": [
      "100%|██████████| 1580/1580 [00:00<00:00, 30268.15it/s]\n"
     ]
    },
    {
     "name": "stdout",
     "output_type": "stream",
     "text": [
      "Parsed labels: ['77', '91', '315', '544', '575', '621', '718', '818', '819', '834', '908']\n",
      "First 10 non-zero features: [(np.int32(60), np.float32(1.0)), (np.int32(248), np.float32(1.0)), (np.int32(279), np.float32(1.0)), (np.int32(316), np.float32(1.0)), (np.int32(490), np.float32(1.0))]\n",
      "Loading test data...\n"
     ]
    },
    {
     "name": "stderr",
     "output_type": "stream",
     "text": [
      "100%|██████████| 393/393 [00:00<00:00, 28510.47it/s]"
     ]
    },
    {
     "name": "stdout",
     "output_type": "stream",
     "text": [
      "Parsed labels: ['53', '55', '78', '247', '375', '464', '497', '500', '531', '636', '700', '773', '809', '941', '955', '974']\n",
      "First 10 non-zero features: [(np.int32(12), np.float32(1.0)), (np.int32(16), np.float32(1.0)), (np.int32(197), np.float32(1.0)), (np.int32(199), np.float32(1.0)), (np.int32(206), np.float32(1.0)), (np.int32(293), np.float32(1.0)), (np.int32(461), np.float32(1.0))]\n"
     ]
    },
    {
     "name": "stderr",
     "output_type": "stream",
     "text": [
      "\n"
     ]
    }
   ],
   "source": [
    "\n",
    "# -----------------------------\n",
    "# Main\n",
    "# -----------------------------\n",
    "dir = 'Delicious/'\n",
    "file_train = os.path.join(dir, 'train.txt')\n",
    "file_test  = os.path.join(dir, 'test.txt')\n",
    "\n",
    "print(\"Loading training data...\")\n",
    "X_train, Y_train = load_dataset(file_train, n, p, d)\n",
    "print(\"Loading test data...\")\n",
    "X_test, Y_test = load_dataset(file_test, nt, p, d)"
   ]
  },
  {
   "cell_type": "code",
   "execution_count": 9,
   "id": "12b6d0b4",
   "metadata": {},
   "outputs": [
    {
     "name": "stdout",
     "output_type": "stream",
     "text": [
      "Building cs matrix...\n",
      "Training regressor...\n"
     ]
    },
    {
     "name": "stderr",
     "output_type": "stream",
     "text": [
      "100%|██████████| 240/240 [00:12<00:00, 18.71it/s]\n"
     ]
    },
    {
     "name": "stdout",
     "output_type": "stream",
     "text": [
      "Predicting test scores...\n",
      "Decoding predictions with thresholding...\n"
     ]
    }
   ],
   "source": [
    "# MLCS\n",
    "mode = \"Hadamard\"\n",
    "print(\"Building cs matrix...\")\n",
    "A = build_cs_matrix(d, m, mode)\n",
    "\n",
    "\n",
    "print(\"Training regressor...\")\n",
    "classifiers = train_regressors(X_train, Y_train, A)\n",
    "\n",
    "print(\"Predicting test scores...\")\n",
    "Y_scores = predict_all_scores_cs(X_test, classifiers, A, k)\n",
    "\n",
    "print(\"Decoding predictions with thresholding...\")\n",
    "Y_pred = threshold_predictions_cs(Y_scores, 0.5)\n"
   ]
  },
  {
   "cell_type": "code",
   "execution_count": 10,
   "id": "1a0aa19f",
   "metadata": {},
   "outputs": [
    {
     "name": "stdout",
     "output_type": "stream",
     "text": [
      "Evaluation\n",
      "Hamming Loss: 0.0207\n",
      "Precision@2 : 0.5025\n"
     ]
    }
   ],
   "source": [
    "print(\"Evaluation\")\n",
    "k_eval = 2\n",
    "hl = hamming_loss(Y_test, Y_pred)\n",
    "p2 = precision_at_k(Y_test, Y_scores, k_eval)\n",
    "print(f\"Hamming Loss: {hl:.4f}\")\n",
    "print(f\"Precision@{k_eval} : {p2:.4f}\")"
   ]
  },
  {
   "cell_type": "code",
   "execution_count": 13,
   "id": "300a0449",
   "metadata": {},
   "outputs": [
    {
     "data": {
      "text/plain": [
       "(393, 983)"
      ]
     },
     "execution_count": 13,
     "metadata": {},
     "output_type": "execute_result"
    }
   ],
   "source": [
    "Y_scores_gt.shape"
   ]
  },
  {
   "cell_type": "code",
   "execution_count": 14,
   "id": "51e0e327",
   "metadata": {},
   "outputs": [
    {
     "name": "stderr",
     "output_type": "stream",
     "text": [
      "  0%|          | 0/240 [00:00<?, ?it/s]"
     ]
    },
    {
     "name": "stderr",
     "output_type": "stream",
     "text": [
      "100%|██████████| 240/240 [00:10<00:00, 22.42it/s]\n",
      "100%|██████████| 240/240 [00:11<00:00, 21.48it/s]\n"
     ]
    },
    {
     "data": {
      "image/png": "[encoded data removed]",
      "text/plain": [
       "<Figure size 1000x600 with 1 Axes>"
      ]
     },
     "metadata": {},
     "output_type": "display_data"
    }
   ],
   "source": [
    "# plot all the values precision at k vs k from 1 to 12 for all methods\n",
    "import matplotlib.pyplot as plt\n",
    "plt.figure(figsize=(10, 6))\n",
    "mode = \"Hadamard\"\n",
    "A = build_cs_matrix(d, m, mode)\n",
    "classifiers = train_regressors(X_train, Y_train, A)\n",
    "Y_scores = predict_all_scores_cs(X_test, classifiers, A, k)\n",
    "plt.plot(range(1, 11), [precision_at_k(Y_test, Y_scores, k) for k in range(1, 11)], marker='o', label='MLCS')\n",
    "mode = \"Gaussian\"\n",
    "A = build_cs_matrix(d, m, mode)\n",
    "classifiers = train_regressors(X_train, Y_train, A)\n",
    "Y_scores = predict_all_scores_cs(X_test, classifiers, A, k)\n",
    "plt.plot(range(1, 11), [precision_at_k(Y_test, Y_scores, k) for k in range(1, 11)], marker='o', label='MLCS-Gaussian')\n",
    "\n",
    "plt.plot(range(1, 11), [precision_at_k(Y_test, Y_scores_gt, k) for k in range(1, 11)], marker='o', label='MLGT')\n",
    "plt.title('Precision@k vs k')\n",
    "plt.xlabel('k')\n",
    "plt.ylabel('Precision@k')\n",
    "plt.xticks(range(1, 13))\n",
    "plt.grid()\n",
    "plt.legend()\n",
    "plt.savefig('precision_at_k_all.png')\n",
    "plt.show()"
   ]
  },
  {
   "cell_type": "code",
   "execution_count": null,
   "id": "f92d01f2",
   "metadata": {},
   "outputs": [],
   "source": []
  }
 ],
 "metadata": {
  "kernelspec": {
   "display_name": "Python 3",
   "language": "python",
   "name": "python3"
  },
  "language_info": {
   "codemirror_mode": {
    "name": "ipython",
    "version": 3
   },
   "file_extension": ".py",
   "mimetype": "text/x-python",
   "name": "python",
   "nbconvert_exporter": "python",
   "pygments_lexer": "ipython3",
   "version": "3.13.1"
  }
 },
 "nbformat": 4,
 "nbformat_minor": 5
}
