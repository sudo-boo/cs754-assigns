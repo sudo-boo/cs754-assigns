{
 "cells": [
  {
   "cell_type": "code",
   "execution_count": 2,
   "id": "46f34c3d",
   "metadata": {},
   "outputs": [
    {
     "name": "stdout",
     "output_type": "stream",
     "text": [
      "Train set: 12884 lines\n",
      "Test set: 3221 lines\n"
     ]
    }
   ],
   "source": [
    "# split the data into train, and test sets\n",
    "\n",
    "file = 'Delicious_data.txt'\n",
    "with open(file, 'r') as f:\n",
    "    _ = f.readline()  # skip the first line\n",
    "    lines = f.readlines()\n",
    "    # split the data into train and test sets\n",
    "    train_lines = lines[:int(len(lines) * 0.8)]\n",
    "    test_lines = lines[int(len(lines) * 0.8):]\n",
    "    # write the train and test sets to files\n",
    "    with open('train.txt', 'w') as train_file:\n",
    "        train_file.write(''.join(train_lines))\n",
    "    with open('test.txt', 'w') as test_file:\n",
    "        test_file.write(''.join(test_lines))\n",
    "    # print the number of lines in each file\n",
    "    print(f'Train set: {len(train_lines)} lines')\n",
    "    print(f'Test set: {len(test_lines)} lines')\n"
   ]
  }
 ],
 "metadata": {
  "kernelspec": {
   "display_name": "Python 3",
   "language": "python",
   "name": "python3"
  },
  "language_info": {
   "codemirror_mode": {
    "name": "ipython",
    "version": 3
   },
   "file_extension": ".py",
   "mimetype": "text/x-python",
   "name": "python",
   "nbconvert_exporter": "python",
   "pygments_lexer": "ipython3",
   "version": "3.13.3"
  }
 },
 "nbformat": 4,
 "nbformat_minor": 5
}
